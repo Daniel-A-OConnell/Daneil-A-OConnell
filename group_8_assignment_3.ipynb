{
  "nbformat": 4,
  "nbformat_minor": 0,
  "metadata": {
    "colab": {
      "name": "group_8_assignment_3.ipynb",
      "version": "0.3.2",
      "provenance": [],
      "collapsed_sections": [],
      "include_colab_link": true
    },
    "kernelspec": {
      "name": "python3",
      "display_name": "Python 3"
    }
  },
  "cells": [
    {
      "cell_type": "markdown",
      "metadata": {
        "id": "view-in-github",
        "colab_type": "text"
      },
      "source": [
        "<a href=\"https://colab.research.google.com/github/Daniel-A-OConnell/Daneil-A-OConnell/blob/master/group_8_assignment_3.ipynb\" target=\"_parent\"><img src=\"https://colab.research.google.com/assets/colab-badge.svg\" alt=\"Open In Colab\"/></a>"
      ]
    },
    {
      "cell_type": "code",
      "metadata": {
        "id": "VMQGqrQhEae0",
        "colab_type": "code",
        "colab": {}
      },
      "source": [
        "import numpy as np\n",
        "import urllib.request\n",
        "import requests\n",
        "from lxml import objectify,etree"
      ],
      "execution_count": 0,
      "outputs": []
    },
    {
      "cell_type": "code",
      "metadata": {
        "id": "Y-TDRSrSE3hT",
        "colab_type": "code",
        "colab": {}
      },
      "source": [
        "def tresdata(yr):\n",
        "    dur = ['1MONTH','3MONTH', '6MONTH', '1YEAR', '2YEAR', '3YEAR', '5YEAR', '7YEAR', '10YEAR', '20YEAR', '30YEAR']\n",
        "    xml = urllib.request.urlopen('http://data.treasury.gov/feed.svc/DailyTreasuryYieldCurveRateData?$filter=year(NEW_DATE)%20eq%20'+str(yr)).read()\n",
        "    tree = etree.fromstring(xml) \n",
        "    tbilldate =tree.findall(\".//{http://schemas.microsoft.com/ado/2007/08/dataservices}NEW_DATE\")\n",
        "    rates = []\n",
        "    for i in tbilldate:\n",
        "        rates.append(i.text)\n",
        "    \n",
        "    for d in dur:\n",
        "        xml = urllib.request.urlopen('http://data.treasury.gov/feed.svc/DailyTreasuryYieldCurveRateData?$filter=year(NEW_DATE)%20eq%20'+str(yr)).read()\n",
        "        tree = etree.fromstring(xml) \n",
        "        tbilld =tree.findall(\".//{http://schemas.microsoft.com/ado/2007/08/dataservices}BC_\"+d)\n",
        "        drates = []\n",
        "        for i in tbilld:\n",
        "            drates.append(i.text)\n",
        "        \n",
        "        rates = np.vstack((rates, drates))\n",
        "    \n",
        "    rates = np.transpose(rates)\n",
        "    \n",
        "    return rates"
      ],
      "execution_count": 0,
      "outputs": []
    },
    {
      "cell_type": "code",
      "metadata": {
        "id": "6_mB4yI7Epjf",
        "colab_type": "code",
        "colab": {}
      },
      "source": [
        "def writerates(start, end):\n",
        "  csv = open(\"Assignment3_Results.csv\", \"w\")\n",
        "  for i in range(start, end+1):\n",
        "    rates = tresdata(i)\n",
        "    for j in rates:\n",
        "      row = ''\n",
        "      for k in j:\n",
        "        row = row + ',' + str(k)\n",
        "      row = row[1:] + '\\n'\n",
        "      csv.write(row)\n",
        "    "
      ],
      "execution_count": 0,
      "outputs": []
    },
    {
      "cell_type": "code",
      "metadata": {
        "id": "2DXn-ytu3l1B",
        "colab_type": "code",
        "colab": {}
      },
      "source": [
        "writerates(2012, 2018)"
      ],
      "execution_count": 0,
      "outputs": []
    }
  ]
}